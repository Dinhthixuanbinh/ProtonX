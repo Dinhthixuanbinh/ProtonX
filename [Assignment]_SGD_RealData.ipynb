{
  "cells": [
    {
      "cell_type": "markdown",
      "metadata": {
        "id": "MI0XEdxm8Pe_"
      },
      "source": [
        "# Bài tập lập trình: SGD với dữ liệu thực tế\n",
        "\n",
        "```\n",
        "ProtonX - TensorFlow Class \n",
        "```\n",
        "\n",
        "### Hướng dẫn làm bài \n",
        "- Trong bài tập này bạn sẽ sử dụng Python 3.\n",
        "\n",
        "\n",
        "### [Quan trọng] Chú ý\n",
        "- **Không sử dụng hàm `input()` tại bất kỳ dòng lệnh nào**\n",
        "\n",
        "\n",
        "Các bạn sẽ thực hiện `code` trong các phần hiển thị `#TODO` và thay thế các vị trí `None`.\n",
        "\n",
        "Sau khi viết xong Code của bạn, bạn hãy ấn \"SHIFT\"+\"ENTER\" để thực hiện chạy lệnh của Cell đó. \n",
        "\n",
        "---\n",
        "Điểm số:\n",
        "* 10 điểm / Câu\n",
        "\n",
        "Tiêu chí chấm điểm:\n",
        "* Phải có log quá trình training\n",
        "* Mean Square Error nhỏ hơn hoặc bằng 2535885073"
      ]
    },
    {
      "cell_type": "code",
      "execution_count": 156,
      "metadata": {
        "id": "6ddymZiBD-FM"
      },
      "outputs": [],
      "source": [
        "import tensorflow as tf\n",
        "import pandas as pd"
      ]
    },
    {
      "cell_type": "code",
      "execution_count": 157,
      "metadata": {
        "id": "lF88fJmGECNQ"
      },
      "outputs": [],
      "source": [
        "train_df = pd.read_csv('./Data/california_housing_train.csv')\n",
        "val_df = pd.read_csv('./Data/california_housing_test.csv') "
      ]
    },
    {
      "cell_type": "code",
      "execution_count": 158,
      "metadata": {
        "colab": {
          "base_uri": "https://localhost:8080/",
          "height": 206
        },
        "id": "5KvoTA-YEDlV",
        "outputId": "fc4cb58e-97d4-4d59-b932-560ba59bfcaf"
      },
      "outputs": [
        {
          "data": {
            "text/html": [
              "<div>\n",
              "<style scoped>\n",
              "    .dataframe tbody tr th:only-of-type {\n",
              "        vertical-align: middle;\n",
              "    }\n",
              "\n",
              "    .dataframe tbody tr th {\n",
              "        vertical-align: top;\n",
              "    }\n",
              "\n",
              "    .dataframe thead th {\n",
              "        text-align: right;\n",
              "    }\n",
              "</style>\n",
              "<table border=\"1\" class=\"dataframe\">\n",
              "  <thead>\n",
              "    <tr style=\"text-align: right;\">\n",
              "      <th></th>\n",
              "      <th>longitude</th>\n",
              "      <th>latitude</th>\n",
              "      <th>housing_median_age</th>\n",
              "      <th>total_rooms</th>\n",
              "      <th>total_bedrooms</th>\n",
              "      <th>population</th>\n",
              "      <th>households</th>\n",
              "      <th>median_income</th>\n",
              "      <th>median_house_value</th>\n",
              "    </tr>\n",
              "  </thead>\n",
              "  <tbody>\n",
              "    <tr>\n",
              "      <th>0</th>\n",
              "      <td>-114.31</td>\n",
              "      <td>34.19</td>\n",
              "      <td>15.0</td>\n",
              "      <td>5612.0</td>\n",
              "      <td>1283.0</td>\n",
              "      <td>1015.0</td>\n",
              "      <td>472.0</td>\n",
              "      <td>1.4936</td>\n",
              "      <td>66900.0</td>\n",
              "    </tr>\n",
              "    <tr>\n",
              "      <th>1</th>\n",
              "      <td>-114.47</td>\n",
              "      <td>34.40</td>\n",
              "      <td>19.0</td>\n",
              "      <td>7650.0</td>\n",
              "      <td>1901.0</td>\n",
              "      <td>1129.0</td>\n",
              "      <td>463.0</td>\n",
              "      <td>1.8200</td>\n",
              "      <td>80100.0</td>\n",
              "    </tr>\n",
              "    <tr>\n",
              "      <th>2</th>\n",
              "      <td>-114.56</td>\n",
              "      <td>33.69</td>\n",
              "      <td>17.0</td>\n",
              "      <td>720.0</td>\n",
              "      <td>174.0</td>\n",
              "      <td>333.0</td>\n",
              "      <td>117.0</td>\n",
              "      <td>1.6509</td>\n",
              "      <td>85700.0</td>\n",
              "    </tr>\n",
              "    <tr>\n",
              "      <th>3</th>\n",
              "      <td>-114.57</td>\n",
              "      <td>33.64</td>\n",
              "      <td>14.0</td>\n",
              "      <td>1501.0</td>\n",
              "      <td>337.0</td>\n",
              "      <td>515.0</td>\n",
              "      <td>226.0</td>\n",
              "      <td>3.1917</td>\n",
              "      <td>73400.0</td>\n",
              "    </tr>\n",
              "    <tr>\n",
              "      <th>4</th>\n",
              "      <td>-114.57</td>\n",
              "      <td>33.57</td>\n",
              "      <td>20.0</td>\n",
              "      <td>1454.0</td>\n",
              "      <td>326.0</td>\n",
              "      <td>624.0</td>\n",
              "      <td>262.0</td>\n",
              "      <td>1.9250</td>\n",
              "      <td>65500.0</td>\n",
              "    </tr>\n",
              "  </tbody>\n",
              "</table>\n",
              "</div>"
            ],
            "text/plain": [
              "   longitude  latitude  housing_median_age  total_rooms  total_bedrooms  \\\n",
              "0    -114.31     34.19                15.0       5612.0          1283.0   \n",
              "1    -114.47     34.40                19.0       7650.0          1901.0   \n",
              "2    -114.56     33.69                17.0        720.0           174.0   \n",
              "3    -114.57     33.64                14.0       1501.0           337.0   \n",
              "4    -114.57     33.57                20.0       1454.0           326.0   \n",
              "\n",
              "   population  households  median_income  median_house_value  \n",
              "0      1015.0       472.0         1.4936             66900.0  \n",
              "1      1129.0       463.0         1.8200             80100.0  \n",
              "2       333.0       117.0         1.6509             85700.0  \n",
              "3       515.0       226.0         3.1917             73400.0  \n",
              "4       624.0       262.0         1.9250             65500.0  "
            ]
          },
          "execution_count": 158,
          "metadata": {},
          "output_type": "execute_result"
        }
      ],
      "source": [
        "train_df.head()"
      ]
    },
    {
      "cell_type": "markdown",
      "metadata": {
        "id": "OEAaSJSgIR--"
      },
      "source": [
        "### Chuẩn hóa dữ liệu"
      ]
    },
    {
      "cell_type": "code",
      "execution_count": 159,
      "metadata": {
        "id": "nzzJcG8lC80v"
      },
      "outputs": [],
      "source": [
        "X_train = train_df.drop('median_house_value', axis = 1)\n",
        "y_train = train_df['median_house_value']"
      ]
    },
    {
      "cell_type": "code",
      "execution_count": 160,
      "metadata": {},
      "outputs": [
        {
          "data": {
            "text/plain": [
              "0         66900.0\n",
              "1         80100.0\n",
              "2         85700.0\n",
              "3         73400.0\n",
              "4         65500.0\n",
              "           ...   \n",
              "16995    111400.0\n",
              "16996     79000.0\n",
              "16997    103600.0\n",
              "16998     85800.0\n",
              "16999     94600.0\n",
              "Name: median_house_value, Length: 17000, dtype: float64"
            ]
          },
          "execution_count": 160,
          "metadata": {},
          "output_type": "execute_result"
        }
      ],
      "source": [
        "y_train"
      ]
    },
    {
      "cell_type": "code",
      "execution_count": 161,
      "metadata": {
        "id": "yDrtFxYgEG1V"
      },
      "outputs": [],
      "source": [
        "import pandas as pd\n",
        "from sklearn import preprocessing\n",
        "\n",
        "from sklearn.preprocessing import MinMaxScaler\n",
        "min_max_scaler = MinMaxScaler()\n",
        "\n",
        "column_names_to_normalize = ['longitude', 'latitude', 'total_rooms', 'total_bedrooms', 'population', 'households']\n",
        "\n",
        "x = X_train[column_names_to_normalize].values\n",
        "\n",
        "x_scaled = min_max_scaler.fit_transform(x)\n",
        "\n",
        "normalized_features = pd.DataFrame(x_scaled, columns=column_names_to_normalize, index = X_train.index)\n",
        "\n",
        "X_train[column_names_to_normalize] = normalized_features"
      ]
    },
    {
      "cell_type": "code",
      "execution_count": 162,
      "metadata": {
        "id": "YCjChGo5EHsW"
      },
      "outputs": [],
      "source": [
        "from sklearn.preprocessing import StandardScaler\n",
        "standard_scaler = StandardScaler()\n",
        "\n",
        "column_names_to_standardize = ['housing_median_age', 'median_income']\n",
        "\n",
        "x = X_train[column_names_to_standardize].values\n",
        "\n",
        "x_scaled = standard_scaler.fit_transform(x)\n",
        "\n",
        "standardized_features = pd.DataFrame(x_scaled, columns=column_names_to_standardize, index = X_train.index)\n",
        "\n",
        "X_train[column_names_to_standardize] = standardized_features"
      ]
    },
    {
      "cell_type": "code",
      "execution_count": 163,
      "metadata": {
        "colab": {
          "base_uri": "https://localhost:8080/",
          "height": 423
        },
        "id": "IuTgm6_cvxFE",
        "outputId": "50971fef-bccf-4b55-e81f-fa090aba1048"
      },
      "outputs": [
        {
          "data": {
            "text/html": [
              "<div>\n",
              "<style scoped>\n",
              "    .dataframe tbody tr th:only-of-type {\n",
              "        vertical-align: middle;\n",
              "    }\n",
              "\n",
              "    .dataframe tbody tr th {\n",
              "        vertical-align: top;\n",
              "    }\n",
              "\n",
              "    .dataframe thead th {\n",
              "        text-align: right;\n",
              "    }\n",
              "</style>\n",
              "<table border=\"1\" class=\"dataframe\">\n",
              "  <thead>\n",
              "    <tr style=\"text-align: right;\">\n",
              "      <th></th>\n",
              "      <th>longitude</th>\n",
              "      <th>latitude</th>\n",
              "      <th>housing_median_age</th>\n",
              "      <th>total_rooms</th>\n",
              "      <th>total_bedrooms</th>\n",
              "      <th>population</th>\n",
              "      <th>households</th>\n",
              "      <th>median_income</th>\n",
              "    </tr>\n",
              "  </thead>\n",
              "  <tbody>\n",
              "    <tr>\n",
              "      <th>0</th>\n",
              "      <td>1.000000</td>\n",
              "      <td>0.175345</td>\n",
              "      <td>-1.079671</td>\n",
              "      <td>0.147885</td>\n",
              "      <td>0.198945</td>\n",
              "      <td>0.028364</td>\n",
              "      <td>0.077454</td>\n",
              "      <td>-1.252543</td>\n",
              "    </tr>\n",
              "    <tr>\n",
              "      <th>1</th>\n",
              "      <td>0.984064</td>\n",
              "      <td>0.197662</td>\n",
              "      <td>-0.761872</td>\n",
              "      <td>0.201608</td>\n",
              "      <td>0.294848</td>\n",
              "      <td>0.031559</td>\n",
              "      <td>0.075974</td>\n",
              "      <td>-1.081483</td>\n",
              "    </tr>\n",
              "    <tr>\n",
              "      <th>2</th>\n",
              "      <td>0.975100</td>\n",
              "      <td>0.122210</td>\n",
              "      <td>-0.920772</td>\n",
              "      <td>0.018927</td>\n",
              "      <td>0.026847</td>\n",
              "      <td>0.009249</td>\n",
              "      <td>0.019076</td>\n",
              "      <td>-1.170105</td>\n",
              "    </tr>\n",
              "    <tr>\n",
              "      <th>3</th>\n",
              "      <td>0.974104</td>\n",
              "      <td>0.116897</td>\n",
              "      <td>-1.159121</td>\n",
              "      <td>0.039515</td>\n",
              "      <td>0.052142</td>\n",
              "      <td>0.014350</td>\n",
              "      <td>0.037000</td>\n",
              "      <td>-0.362600</td>\n",
              "    </tr>\n",
              "    <tr>\n",
              "      <th>4</th>\n",
              "      <td>0.974104</td>\n",
              "      <td>0.109458</td>\n",
              "      <td>-0.682422</td>\n",
              "      <td>0.038276</td>\n",
              "      <td>0.050435</td>\n",
              "      <td>0.017405</td>\n",
              "      <td>0.042921</td>\n",
              "      <td>-1.026454</td>\n",
              "    </tr>\n",
              "    <tr>\n",
              "      <th>...</th>\n",
              "      <td>...</td>\n",
              "      <td>...</td>\n",
              "      <td>...</td>\n",
              "      <td>...</td>\n",
              "      <td>...</td>\n",
              "      <td>...</td>\n",
              "      <td>...</td>\n",
              "      <td>...</td>\n",
              "    </tr>\n",
              "    <tr>\n",
              "      <th>16995</th>\n",
              "      <td>0.008964</td>\n",
              "      <td>0.854410</td>\n",
              "      <td>1.859971</td>\n",
              "      <td>0.058389</td>\n",
              "      <td>0.060987</td>\n",
              "      <td>0.025337</td>\n",
              "      <td>0.060516</td>\n",
              "      <td>-0.799999</td>\n",
              "    </tr>\n",
              "    <tr>\n",
              "      <th>16996</th>\n",
              "      <td>0.007968</td>\n",
              "      <td>0.866100</td>\n",
              "      <td>0.588774</td>\n",
              "      <td>0.061869</td>\n",
              "      <td>0.081782</td>\n",
              "      <td>0.033381</td>\n",
              "      <td>0.076303</td>\n",
              "      <td>-0.715727</td>\n",
              "    </tr>\n",
              "    <tr>\n",
              "      <th>16997</th>\n",
              "      <td>0.004980</td>\n",
              "      <td>0.988310</td>\n",
              "      <td>-0.920772</td>\n",
              "      <td>0.070515</td>\n",
              "      <td>0.082247</td>\n",
              "      <td>0.034782</td>\n",
              "      <td>0.074823</td>\n",
              "      <td>-0.446663</td>\n",
              "    </tr>\n",
              "    <tr>\n",
              "      <th>16998</th>\n",
              "      <td>0.004980</td>\n",
              "      <td>0.984060</td>\n",
              "      <td>-0.761872</td>\n",
              "      <td>0.070384</td>\n",
              "      <td>0.085506</td>\n",
              "      <td>0.036296</td>\n",
              "      <td>0.078441</td>\n",
              "      <td>-0.997787</td>\n",
              "    </tr>\n",
              "    <tr>\n",
              "      <th>16999</th>\n",
              "      <td>0.000000</td>\n",
              "      <td>0.850159</td>\n",
              "      <td>1.859971</td>\n",
              "      <td>0.047924</td>\n",
              "      <td>0.046400</td>\n",
              "      <td>0.022506</td>\n",
              "      <td>0.044236</td>\n",
              "      <td>-0.455363</td>\n",
              "    </tr>\n",
              "  </tbody>\n",
              "</table>\n",
              "<p>17000 rows × 8 columns</p>\n",
              "</div>"
            ],
            "text/plain": [
              "       longitude  latitude  housing_median_age  total_rooms  total_bedrooms  \\\n",
              "0       1.000000  0.175345           -1.079671     0.147885        0.198945   \n",
              "1       0.984064  0.197662           -0.761872     0.201608        0.294848   \n",
              "2       0.975100  0.122210           -0.920772     0.018927        0.026847   \n",
              "3       0.974104  0.116897           -1.159121     0.039515        0.052142   \n",
              "4       0.974104  0.109458           -0.682422     0.038276        0.050435   \n",
              "...          ...       ...                 ...          ...             ...   \n",
              "16995   0.008964  0.854410            1.859971     0.058389        0.060987   \n",
              "16996   0.007968  0.866100            0.588774     0.061869        0.081782   \n",
              "16997   0.004980  0.988310           -0.920772     0.070515        0.082247   \n",
              "16998   0.004980  0.984060           -0.761872     0.070384        0.085506   \n",
              "16999   0.000000  0.850159            1.859971     0.047924        0.046400   \n",
              "\n",
              "       population  households  median_income  \n",
              "0        0.028364    0.077454      -1.252543  \n",
              "1        0.031559    0.075974      -1.081483  \n",
              "2        0.009249    0.019076      -1.170105  \n",
              "3        0.014350    0.037000      -0.362600  \n",
              "4        0.017405    0.042921      -1.026454  \n",
              "...           ...         ...            ...  \n",
              "16995    0.025337    0.060516      -0.799999  \n",
              "16996    0.033381    0.076303      -0.715727  \n",
              "16997    0.034782    0.074823      -0.446663  \n",
              "16998    0.036296    0.078441      -0.997787  \n",
              "16999    0.022506    0.044236      -0.455363  \n",
              "\n",
              "[17000 rows x 8 columns]"
            ]
          },
          "execution_count": 163,
          "metadata": {},
          "output_type": "execute_result"
        }
      ],
      "source": [
        "X_train"
      ]
    },
    {
      "cell_type": "markdown",
      "metadata": {
        "id": "HJTdpEia81ML"
      },
      "source": [
        "### Tiến hành training"
      ]
    },
    {
      "cell_type": "code",
      "execution_count": 164,
      "metadata": {
        "id": "zCnyVqYIET-A"
      },
      "outputs": [],
      "source": [
        "import numpy as np\n",
        "m, n = X_train.shape\n",
        "ones = np.ones((m, 1))\n",
        "X_train = np.concatenate((X_train, ones), axis=1)\n"
      ]
    },
    {
      "cell_type": "code",
      "execution_count": 165,
      "metadata": {},
      "outputs": [
        {
          "data": {
            "text/plain": [
              "array([[ 1.        ,  0.17534538, -1.07967114, ...,  0.07745437,\n",
              "        -1.25254316,  1.        ],\n",
              "       [ 0.98406375,  0.19766206, -0.76187201, ...,  0.07597435,\n",
              "        -1.08148298,  1.        ],\n",
              "       [ 0.9750996 ,  0.12221041, -0.92077158, ...,  0.01907581,\n",
              "        -1.17010515,  1.        ],\n",
              "       ...,\n",
              "       [ 0.00498008,  0.98831031, -0.92077158, ...,  0.07482322,\n",
              "        -0.44666313,  1.        ],\n",
              "       [ 0.00498008,  0.98405951, -0.76187201, ...,  0.07844105,\n",
              "        -0.99778717,  1.        ],\n",
              "       [ 0.        ,  0.8501594 ,  1.85997083, ...,  0.04423615,\n",
              "        -0.45536288,  1.        ]])"
            ]
          },
          "execution_count": 165,
          "metadata": {},
          "output_type": "execute_result"
        }
      ],
      "source": [
        "X_train"
      ]
    },
    {
      "cell_type": "code",
      "execution_count": 166,
      "metadata": {
        "id": "cxBRdewIEVq7"
      },
      "outputs": [],
      "source": [
        "# Tạo tham số theta (9, ) -> (9, 1)\n",
        "theta = np.random.normal(size=X_train.shape[1]).reshape((X_train.shape[1], 1))\n",
        "\n",
        "X_train.dot(theta).shape\n",
        "\n",
        "# Chuyển chiều từ (17000, ) -> (17000, 1)\n",
        "y_train = y_train.values.reshape(-1, 1)\n"
      ]
    },
    {
      "cell_type": "code",
      "execution_count": 167,
      "metadata": {
        "colab": {
          "base_uri": "https://localhost:8080/"
        },
        "id": "yNf2YQzfEWrN",
        "outputId": "47115451-3406-4d21-99c1-e3bf01e09abe"
      },
      "outputs": [
        {
          "data": {
            "text/plain": [
              "((17000, 9), (9, 1), (17000, 1))"
            ]
          },
          "execution_count": 167,
          "metadata": {},
          "output_type": "execute_result"
        }
      ],
      "source": [
        "X_train.shape, theta.shape, y_train.shape"
      ]
    },
    {
      "cell_type": "markdown",
      "metadata": {
        "id": "7xIGtYjGH7N7"
      },
      "source": [
        "### Xây dựng mô hình SGD tại đây"
      ]
    },
    {
      "cell_type": "code",
      "execution_count": 168,
      "metadata": {
        "id": "l75M8D0xEXgC"
      },
      "outputs": [],
      "source": [
        "from sklearn.utils import shuffle\n",
        "\n",
        "learning_rate = 0.01\n",
        "\n",
        "def hypo(X, theta):\n",
        "  # TODO 1: Tính toán hàm giả thiết\n",
        "  return X.T.dot(theta)\n",
        "\n",
        "def cost(X, y, theta, m):\n",
        "  # TODO 2: Tính giá trị mất mát trên toàn bộ tập dữ liệu\n",
        "\n",
        "  return 1/(2 * m) * np.sum((X.dot(theta)-y)**2)\n",
        "\n",
        "def SGD(X, y, theta, learning_rate, epochs):\n",
        "  m = len(X)\n",
        "  for i in range(epochs):\n",
        "    # TODO 3: Xóa dữ liệu\n",
        "    X,y = shuffle(X,y)\n",
        "    # TODO 4: Cập nhật bộ tham số\n",
        "    for k in range(m):\n",
        "      error = hypo(X[k], theta)- y[k]\n",
        "      for j in range(len(theta) ):\n",
        "        theta[j] = theta[j] - learning_rate * error *X[k][j]\n",
        "  \n",
        "\n",
        "     \n",
        "    \n"
      ]
    },
    {
      "cell_type": "markdown",
      "metadata": {
        "id": "avSEIxwjIZq_"
      },
      "source": [
        "### Tiến hành Training"
      ]
    },
    {
      "cell_type": "code",
      "execution_count": 169,
      "metadata": {
        "id": "tz_tepVBE3g1"
      },
      "outputs": [],
      "source": [
        "epochs = 500\n",
        "learning_rate = 0.07\n",
        "SGD(X_train, y_train, theta, learning_rate, epochs)"
      ]
    },
    {
      "cell_type": "markdown",
      "metadata": {
        "id": "bjAqWf2u9ekL"
      },
      "source": [
        "Kiểm tra Model hiện tại với tập test"
      ]
    },
    {
      "cell_type": "code",
      "execution_count": 190,
      "metadata": {
        "id": "SMkDgTj29fWz"
      },
      "outputs": [],
      "source": [
        "test_df = pd.read_csv('./Data/california_housing_test.csv') \n",
        "X_test = test_df.drop('median_house_value', axis = 1)\n",
        "y_test = test_df['median_house_value']\n",
        "\n",
        "# TODO 5: Lấy các cột cần chuẩn hóa\n",
        "x_test_cols = X_test[column_names_to_normalize].values\n",
        "# TODO 6: Sử dụng min và max của X_train để chuẩn hóa cho X_test\n",
        "\n",
        "x_test_cols_scaled = min_max_scaler.fit_transform(x_test_cols)\n",
        "\n",
        "# TODO 7: Tạo dataframe mới với các cột này\n",
        "normalized_test_features = pd.DataFrame(x_test_cols_scaled, columns=column_names_to_normalize, index=X_test.index)\n",
        "\n",
        "# TODO 8: Gán lại cho bảng ban đầu\n",
        "X_test[column_names_to_normalize] = normalized_features"
      ]
    },
    {
      "cell_type": "code",
      "execution_count": 171,
      "metadata": {
        "id": "njTRxmDo9jAD"
      },
      "outputs": [],
      "source": [
        "from sklearn.preprocessing import StandardScaler\n",
        "\n",
        "column_names_to_standardize = ['housing_median_age', 'median_income']\n",
        "\n",
        "# TODO 9: Chuẩn hóa các cột về phân phối chuẩn đơn vị\n",
        "x_test_cols = X_test[column_names_to_standardize].values\n",
        "x_test_cols_scaled = standard_scaler.fit_transform(x_test_cols)\n",
        "standardized_test_features = pd.DataFrame(x_test_cols_scaled,columns=column_names_to_standardize, index= X_test.index)\n",
        "X_test[column_names_to_standardize] = standardized_test_features"
      ]
    },
    {
      "cell_type": "code",
      "execution_count": 172,
      "metadata": {
        "id": "0_LYslJL-vCb"
      },
      "outputs": [
        {
          "data": {
            "text/plain": [
              "3000"
            ]
          },
          "execution_count": 172,
          "metadata": {},
          "output_type": "execute_result"
        }
      ],
      "source": [
        "len(X_test)"
      ]
    },
    {
      "cell_type": "code",
      "execution_count": 173,
      "metadata": {
        "id": "6-wlZZ6x--KT"
      },
      "outputs": [
        {
          "data": {
            "text/plain": [
              "(3000, 8)"
            ]
          },
          "execution_count": 173,
          "metadata": {},
          "output_type": "execute_result"
        }
      ],
      "source": [
        "X_test.shape"
      ]
    },
    {
      "cell_type": "code",
      "execution_count": 188,
      "metadata": {},
      "outputs": [
        {
          "data": {
            "text/plain": [
              "(3000, 1)"
            ]
          },
          "execution_count": 188,
          "metadata": {},
          "output_type": "execute_result"
        }
      ],
      "source": [
        "# Tạo tham số theta (9, ) -> (9, 1)\n",
        "theta = np.random.normal(size=X_test.shape[1]).reshape((X_test.shape[1], 1))\n",
        "\n",
        "X_test.dot(theta).shape\n",
        "\n",
        "# Chuyển chiều từ (17000, ) -> (17000, 1)\n",
        "# y_test = y_test.values.reshape(-1, 1)"
      ]
    },
    {
      "cell_type": "code",
      "execution_count": 191,
      "metadata": {},
      "outputs": [],
      "source": [
        "y_test = y_test.values.reshape(-1, 1)"
      ]
    },
    {
      "cell_type": "code",
      "execution_count": 192,
      "metadata": {},
      "outputs": [
        {
          "data": {
            "text/plain": [
              "(3000, 1)"
            ]
          },
          "execution_count": 192,
          "metadata": {},
          "output_type": "execute_result"
        }
      ],
      "source": [
        "y_test.shape"
      ]
    },
    {
      "cell_type": "code",
      "execution_count": 193,
      "metadata": {},
      "outputs": [
        {
          "data": {
            "text/plain": [
              "(3000, 1)"
            ]
          },
          "execution_count": 193,
          "metadata": {},
          "output_type": "execute_result"
        }
      ],
      "source": [
        "X_test.dot(theta).shape"
      ]
    },
    {
      "cell_type": "markdown",
      "metadata": {},
      "source": [
        "# TODO 10: Tính mất mát trên bộ test\n",
        "X_test = x_test_cols_scaled\n",
        "y_test = y_test\n",
        "cost(X_test, y_test, theta, len(X_test))"
      ]
    },
    {
      "cell_type": "code",
      "execution_count": 194,
      "metadata": {},
      "outputs": [
        {
          "data": {
            "text/plain": [
              "0    2.758173e+10\n",
              "dtype: float64"
            ]
          },
          "execution_count": 194,
          "metadata": {},
          "output_type": "execute_result"
        }
      ],
      "source": [
        "# TODO 10: Tính mất mát trên bộ test\n",
        "X_test = X_test\n",
        "y_test = y_test\n",
        "cost(X_test, y_test, theta, len(X_test))"
      ]
    },
    {
      "cell_type": "markdown",
      "metadata": {
        "id": "IwqsWyQeANpy"
      },
      "source": [
        "Kết quả mong đợi: mất mát nhỏ hơn hoặc bằng `2535885073`"
      ]
    }
  ],
  "metadata": {
    "accelerator": "GPU",
    "colab": {
      "collapsed_sections": [],
      "machine_shape": "hm",
      "name": "[Assignment] SGD - RealData.ipynb",
      "provenance": []
    },
    "kernelspec": {
      "display_name": "Python 3.10.1 64-bit",
      "language": "python",
      "name": "python3"
    },
    "language_info": {
      "codemirror_mode": {
        "name": "ipython",
        "version": 3
      },
      "file_extension": ".py",
      "mimetype": "text/x-python",
      "name": "python",
      "nbconvert_exporter": "python",
      "pygments_lexer": "ipython3",
      "version": "3.10.1"
    },
    "vscode": {
      "interpreter": {
        "hash": "31671a60cee805c34c73116577b485118ff3a75c458d3004d49632c19702ac60"
      }
    }
  },
  "nbformat": 4,
  "nbformat_minor": 0
}
